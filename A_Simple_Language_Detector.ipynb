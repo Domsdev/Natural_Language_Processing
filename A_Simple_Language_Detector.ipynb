{
 "cells": [
  {
   "cell_type": "markdown",
   "metadata": {},
   "source": [
    "# A simple language detector"
   ]
  },
  {
   "cell_type": "markdown",
   "metadata": {},
   "source": [
    "## Objective:"
   ]
  },
  {
   "cell_type": "markdown",
   "metadata": {},
   "source": [
    "The goal here is to create a language detector model based on \"The Europarl parallel\" corpus using classical techniques of Natural Language Processing and Machine Learning.<br/>\n",
    "I will then use this model to detect the language of new sentences taken from Wikipedia.<br/>\n",
    "This language detection task falls basically into Text Classification."
   ]
  },
  {
   "cell_type": "markdown",
   "metadata": {},
   "source": [
    "![png](img/language_detection_word_Art.jpg)"
   ]
  },
  {
   "cell_type": "markdown",
   "metadata": {},
   "source": [
    "---"
   ]
  },
  {
   "cell_type": "markdown",
   "metadata": {},
   "source": [
    "## Table of contents\n",
    "\n",
    "1. [Data](#data)\n",
    "2. [Data analysis](#data_analysis)\n",
    "3. [Data pre-processing](#preprocessing)\n",
    "4. [Preparing Datasets](#preparing_datasets)\n",
    "5. [Variables definition](#variables)\n",
    "6. [Data vectorization](#data_vectorization)\n",
    "7. [Model](#model)\n",
    "8. [Model evaluation](#evaluation)\n",
    "9. [Inference](#inference)\n",
    "10. [Conclusion](#conclusion)"
   ]
  },
  {
   "cell_type": "markdown",
   "metadata": {},
   "source": [
    "### Importing libraries"
   ]
  },
  {
   "cell_type": "code",
   "execution_count": 1,
   "metadata": {},
   "outputs": [],
   "source": [
    "import os\n",
    "import time\n",
    "import string\n",
    "import re\n",
    "import numpy as np\n",
    "import pandas as pd\n",
    "import seaborn as sns\n",
    "import matplotlib.pyplot as plt\n",
    "from sklearn import feature_extraction\n",
    "from sklearn import pipeline\n",
    "from sklearn.linear_model import LogisticRegression\n",
    "from sklearn.metrics import accuracy_score\n",
    "from sklearn.metrics import classification_report\n",
    "from sklearn.metrics import confusion_matrix\n",
    "import itertools\n",
    "from tqdm import tqdm\n",
    "import dataframe_image as dfi\n",
    "import pickle"
   ]
  },
  {
   "cell_type": "markdown",
   "metadata": {},
   "source": [
    "### Global data path"
   ]
  },
  {
   "cell_type": "code",
   "execution_count": 2,
   "metadata": {},
   "outputs": [],
   "source": [
    "data_path = \"data/Europarl/\"\n",
    "corpus_path = data_path + \"/Europarl_parallel_corpus\""
   ]
  },
  {
   "cell_type": "markdown",
   "metadata": {},
   "source": [
    "## 1.Data<a id=\"data\"></a>"
   ]
  },
  {
   "cell_type": "markdown",
   "metadata": {},
   "source": [
    "The Europarl parallel corpus is extracted from the proceedings of the European Parliament. It includes versions in 21 European languages: Romanic (French, Italian, Spanish, Portuguese, Romanian), Germanic (English, Dutch, German, Danish, Swedish), Slavik (Bulgarian, Czech, Polish, Slovak, Slovene), Finni-Ugric (Finnish, Hungarian, Estonian), Baltic (Latvian, Lithuanian), and Greek.<br/>"
   ]
  },
  {
   "cell_type": "markdown",
   "metadata": {},
   "source": [
    "For a detailed description of this corpus, please read Europarl: A Parallel Corpus for Statistical Machine Translation, Philipp Koehn, MT Summit 2005, <a href=\"https://homepages.inf.ed.ac.uk/pkoehn/publications/europarl-mtsummit05.pdf\">Pdf</a>.<br/>\n",
    "\n",
    "Get the original data <a href=\"http://www.statmt.org/europarl/\">here</a>."
   ]
  },
  {
   "cell_type": "markdown",
   "metadata": {},
   "source": [
    "**I will use this corpus for language detection although it is originally intended for translation.**"
   ]
  },
  {
   "cell_type": "markdown",
   "metadata": {},
   "source": [
    "Here under is a small table to visualize some basic informations about the data:"
   ]
  },
  {
   "cell_type": "code",
   "execution_count": 3,
   "metadata": {
    "scrolled": false
   },
   "outputs": [],
   "source": [
    "sentence_aligned_corpora_df = pd.read_csv(data_path + \"Europarl_parallel_corpus_description.csv\")\n",
    "dfi.export(sentence_aligned_corpora_df, \"img/language_detection_Europarl_parallel_corpus_description_df.png\")"
   ]
  },
  {
   "cell_type": "markdown",
   "metadata": {},
   "source": [
    "![png](img/language_detection_Europarl_parallel_corpus_description_df.png)"
   ]
  },
  {
   "cell_type": "markdown",
   "metadata": {},
   "source": [
    "Each folder of the parallel corpus contains two files (exemple for bulgarian folder \"bg-en\"):\n",
    "- text in the considered language: \"europarl-v7.bg-en.bg\"\n",
    "- same text translated in english: \"europarl-v7.bg-en.en\""
   ]
  },
  {
   "cell_type": "markdown",
   "metadata": {},
   "source": [
    "**For language detection, I would keep only the texts in the languages considered. As to the detection of the English language, I will use the translation from French text file.**"
   ]
  },
  {
   "cell_type": "markdown",
   "metadata": {},
   "source": [
    "## 2.Data analysis<a id=\"data_analysis\"></a>"
   ]
  },
  {
   "cell_type": "markdown",
   "metadata": {},
   "source": [
    "### Let's load the Czech data from folder"
   ]
  },
  {
   "cell_type": "code",
   "execution_count": 3,
   "metadata": {},
   "outputs": [],
   "source": [
    "# Setting column width display option\n",
    "pd.set_option('display.max_colwidth', 150)"
   ]
  },
  {
   "cell_type": "code",
   "execution_count": 4,
   "metadata": {
    "scrolled": false
   },
   "outputs": [],
   "source": [
    "czech_df = pd.read_csv(\n",
    "    corpus_path + \"/cs-en/europarl-v7.cs-en.cs\",\n",
    "    \"UTF-8\", names=[\"Czech Sentences\"],\n",
    "    engine='python')\n",
    "\n",
    "dfi.export(czech_df.head(20), \"img/language_detection_czech_df.png\")"
   ]
  },
  {
   "cell_type": "markdown",
   "metadata": {},
   "source": [
    "![png](img/language_detection_czech_df.png)"
   ]
  },
  {
   "cell_type": "markdown",
   "metadata": {},
   "source": [
    "We can see in the first lines of this czech dataset that some greek words appears (row 11), as well as some italian words (row 9).<br/>\n",
    "It is reasonable to think that there must exist many other imprecisions inside the dataframe."
   ]
  },
  {
   "cell_type": "markdown",
   "metadata": {},
   "source": [
    "We can also observe some sentences that contains just numbers. These will be treated during the pre-processing phase."
   ]
  },
  {
   "cell_type": "markdown",
   "metadata": {},
   "source": [
    "### Czech Data Exploration"
   ]
  },
  {
   "cell_type": "markdown",
   "metadata": {},
   "source": [
    "Getting counts of sentences, words and characters:"
   ]
  },
  {
   "cell_type": "code",
   "execution_count": 5,
   "metadata": {},
   "outputs": [
    {
     "name": "stderr",
     "output_type": "stream",
     "text": [
      "100%|██████████| 646526/646526 [01:55<00:00, 5613.49it/s]\n"
     ]
    }
   ],
   "source": [
    "total_num_words = 0\n",
    "line_num_words = 0\n",
    "num_char = 0\n",
    "words_by_line = []\n",
    "charDict = {}\n",
    "\n",
    "for i, row in tqdm(czech_df.iterrows(), total=czech_df.shape[0]):\n",
    "    line = row['Czech Sentences']\n",
    "    line_num_words = len(line.split(\" \"))\n",
    "    \n",
    "    # words count\n",
    "    total_num_words += line_num_words   \n",
    "    words_by_line.append(line_num_words)\n",
    "    \n",
    "    # characters count\n",
    "    for char in line:\n",
    "        num_char += 1\n",
    "        if char in charDict.keys():\n",
    "            charDict[char] += 1\n",
    "        else:\n",
    "            charDict[char] = 1"
   ]
  },
  {
   "cell_type": "code",
   "execution_count": 6,
   "metadata": {},
   "outputs": [
    {
     "name": "stdout",
     "output_type": "stream",
     "text": [
      "Number of sentences: 646526\n",
      "Number of words: 12999948\n",
      "Minimum number of words by sentence: 1\n",
      "Maximum number of words by sentence: 227\n"
     ]
    }
   ],
   "source": [
    "print(\"Number of sentences:\", czech_df.shape[0])\n",
    "print(\"Number of words:\", total_num_words)\n",
    "print(\"Minimum number of words by sentence:\", min(words_by_line))\n",
    "print(\"Maximum number of words by sentence:\", max(words_by_line))"
   ]
  },
  {
   "cell_type": "code",
   "execution_count": 7,
   "metadata": {},
   "outputs": [
    {
     "name": "stdout",
     "output_type": "stream",
     "text": [
      "Total number of characters: 87212619\n",
      "Number of different characters: 269\n"
     ]
    }
   ],
   "source": [
    "print(\"Total number of characters:\", num_char)\n",
    "print(f'Number of different characters: {len(charDict)}')"
   ]
  },
  {
   "cell_type": "markdown",
   "metadata": {},
   "source": [
    "### Let's check these characters and their occurrence in the detail"
   ]
  },
  {
   "cell_type": "code",
   "execution_count": null,
   "metadata": {},
   "outputs": [],
   "source": [
    "charDict = dict(sorted(charDict.items(),key= lambda x:x[1], reverse=True))\n",
    "print(charDict)"
   ]
  },
  {
   "cell_type": "markdown",
   "metadata": {},
   "source": [
    "![png](img/Czech_charDict.png)"
   ]
  },
  {
   "cell_type": "markdown",
   "metadata": {},
   "source": [
    "### And visualize the ordered occurrence of these characters"
   ]
  },
  {
   "cell_type": "code",
   "execution_count": 8,
   "metadata": {},
   "outputs": [],
   "source": [
    "#setting plots background color\n",
    "plt.rcParams.update({'axes.facecolor':'#f8fafc'})"
   ]
  },
  {
   "cell_type": "code",
   "execution_count": 11,
   "metadata": {},
   "outputs": [
    {
     "data": {
      "image/png": "[encoded data removed]",
      "text/plain": [
       "<Figure size 1440x576 with 1 Axes>"
      ]
     },
     "metadata": {
      "needs_background": "light"
     },
     "output_type": "display_data"
    }
   ],
   "source": [
    "plt.figure(figsize=(20, 8))\n",
    "plt.bar(range(len(charDict)), list(charDict.values()), align='center', edgecolor='black', color='darkorange')\n",
    "plt.xticks(range(len(charDict)), list(charDict.keys()))\n",
    "plt.tick_params(labelsize = 14)\n",
    "plt.xlabel('Characters', fontsize = 15)\n",
    "plt.ylabel('Number of occurrences', fontsize = 15)\n",
    "plt.title('Czech Data: Characters occurrences (first 50)', fontsize = 18)\n",
    "plt.xlim([-1, 50])\n",
    "plt.show()"
   ]
  },
  {
   "cell_type": "markdown",
   "metadata": {},
   "source": [
    "One can observe the occurrence of some typical Czech characters like ž ě ř č š ů.<br/>\n",
    "Digits and Punctuation should be removed, as well as special characters. Capital letters will be lowered."
   ]
  },
  {
   "cell_type": "markdown",
   "metadata": {},
   "source": [
    "### Now let's see  how words and sentences are distributed"
   ]
  },
  {
   "cell_type": "code",
   "execution_count": 26,
   "metadata": {},
   "outputs": [
    {
     "data": {
      "image/png": "[encoded data removed]",
      "text/plain": [
       "<Figure size 1008x576 with 2 Axes>"
      ]
     },
     "metadata": {
      "needs_background": "light"
     },
     "output_type": "display_data"
    }
   ],
   "source": [
    "plt.figure(figsize=(14, 8))\n",
    "\n",
    "# BOXPLOT\n",
    "plt.subplot(211)\n",
    "flierprops = dict(marker='o', markerfacecolor='darkorange', markersize=10)\n",
    "plt.boxplot(words_by_line, vert=False, patch_artist=True, meanline=True, showmeans=True, flierprops=flierprops)\n",
    "plt.xlabel('Number of words', fontsize = 12)\n",
    "plt.title('Czech Data: Distribution of the number of words of sentences', fontsize = 15)\n",
    "plt.xticks(np.arange(0, 230, 20))\n",
    "plt.xlim([0,230])\n",
    "plt.yticks([1,], [\"Czech\"], fontsize = 12)\n",
    "\n",
    "# HISTOGRAM\n",
    "plt.subplot(212)\n",
    "plt.hist(words_by_line, bins=300, color='purple')\n",
    "plt.xlabel('Number of words', fontsize = 12)\n",
    "plt.ylabel('Number of sentences', fontsize = 12)\n",
    "plt.title('Czech Data: Distribution of sentences by the number of words', fontsize = 15)\n",
    "plt.xticks(np.arange(0, 230, 20))\n",
    "plt.xlim([0,230])\n",
    "\n",
    "plt.tight_layout()\n",
    "plt.show()"
   ]
  },
  {
   "cell_type": "markdown",
   "metadata": {},
   "source": [
    "We can observe many outliers: sentences with a higher amount of words.<br/>\n",
    "On the other hand, we see that half of the sentences have less than 20 words."
   ]
  },
  {
   "cell_type": "markdown",
   "metadata": {},
   "source": [
    "## 3.Data pre-processing<a id=\"preprocessing\"></a>"
   ]
  },
  {
   "cell_type": "markdown",
   "metadata": {},
   "source": [
    "### Pre-processing steps:\n",
    "- remove string begin/end spaces\n",
    "- lower capital letters\n",
    "- divide compound words (vice-president -> vice president)\n",
    "- remove punctuation marks\n",
    "- remove digits\n",
    "- remove non-ascii characters\n",
    "- remove extra spaces"
   ]
  },
  {
   "cell_type": "markdown",
   "metadata": {},
   "source": [
    "### Let's see the result of each pre-processing steps on a simple exemple"
   ]
  },
  {
   "cell_type": "code",
   "execution_count": 43,
   "metadata": {},
   "outputs": [],
   "source": [
    "text = \"\"\"  PRE-Pross ! \"# & '()*./:;+ ,- =>$? @ [\\]^_ `{|} ~) ěï ū Щ %Ъ < ЫЭ §± »€ ≤• 223787° ý ł  \"\"\""
   ]
  },
  {
   "cell_type": "code",
   "execution_count": 44,
   "metadata": {},
   "outputs": [
    {
     "name": "stdout",
     "output_type": "stream",
     "text": [
      "! \" # $ % & ' ( ) * + , - . / : ; < = > ? @ [ \\ ] ^ _ ` { | } ~ "
     ]
    }
   ],
   "source": [
    "# Defining dictionary for punctuation removal\n",
    "for char in string.punctuation:\n",
    "    print(char, end = ' ')\n",
    "punctuation_marks = dict((ord(char), \"\") for char in string.punctuation)"
   ]
  },
  {
   "cell_type": "code",
   "execution_count": 45,
   "metadata": {
    "scrolled": true
   },
   "outputs": [
    {
     "name": "stdout",
     "output_type": "stream",
     "text": [
      "  PRE-Pross ! \"# & '()*./:;+ ,- =>$? @ [\\]^_ `{|} ~) ěï ū Щ %Ъ < ЫЭ §± »€ ≤• 223787° ý ł   \n",
      "\n",
      "PRE-Pross ! \"# & '()*./:;+ ,- =>$? @ [\\]^_ `{|} ~) ěï ū Щ %Ъ < ЫЭ §± »€ ≤• 223787° ý ł \n",
      "\n",
      "pre-pross ! \"# & '()*./:;+ ,- =>$? @ [\\]^_ `{|} ~) ěï ū щ %ъ < ыэ §± »€ ≤• 223787° ý ł \n",
      "\n",
      "pre pross ! \"# & '()*./:;+ ,  =>$? @ [\\]^_ `{|} ~) ěï ū щ %ъ < ыэ §± »€ ≤• 223787° ý ł \n",
      "\n",
      "pre pross            ěï ū щ ъ  ыэ §± »€ ≤• 223787° ý ł \n",
      "\n",
      "pre pross            ěï ū щ ъ  ыэ §± »€ ≤• ° ý ł \n",
      "\n",
      "pre pross            ěï ū щ ъ  ыэ            ý ł \n",
      "\n",
      "pre pross ěï ū щ ъ ыэ ý ł \n",
      "\n"
     ]
    }
   ],
   "source": [
    "print(text, \"\\n\")\n",
    "text = text.strip()                       # remove string begin/end spaces\n",
    "print(text, \"\\n\")\n",
    "text = text.lower()                       # lower capital letters\n",
    "print(text, \"\\n\")\n",
    "text = text.replace(\"-\", \" \")             # divide compound words\n",
    "print(text, \"\\n\")\n",
    "text = text.translate(punctuation_marks)  # remove punctuation marks\n",
    "print(text, \"\\n\")\n",
    "text = re.sub('\\d+', '', text)            # remove digits\n",
    "print(text, \"\\n\")\n",
    "text = re.sub('\\\\W',' ',text)             # remove non-ascii characters\n",
    "print(text, \"\\n\")\n",
    "text = re.sub(' +', ' ', text)            # remove extra spaces\n",
    "print(text, \"\\n\")"
   ]
  },
  {
   "cell_type": "markdown",
   "metadata": {},
   "source": [
    "### Additional pre-processing step:"
   ]
  },
  {
   "cell_type": "markdown",
   "metadata": {},
   "source": [
    "**I decided to rearrange the sentences during the data pre-processing phase so that I had the same specified number of words in each.**<br/>\n",
    "**In this way, the machine learning model will be trained on a dataset with standardized length sentences.**"
   ]
  },
  {
   "cell_type": "markdown",
   "metadata": {},
   "source": [
    "**I arbitrary choosed to set the length of sentences to 50 words**\n",
    "\n",
    "- set lengh of sentences to 50 words:\n",
    "    - each line wich has less than 50 words will be concatenated to the next one\n",
    "    - each line wich has 50 or more words will be sliced in order to respect the given lenght of 50 words by sentences"
   ]
  },
  {
   "cell_type": "markdown",
   "metadata": {},
   "source": [
    "By the way, this pre-processing can split or concatenate some valid sentences with sentences from other languages and could reduce the imprecision over text data."
   ]
  },
  {
   "cell_type": "code",
   "execution_count": 16,
   "metadata": {},
   "outputs": [],
   "source": [
    "def dataPreprocessing(dataframe, NB_WORDS_BY_ROW=50):\n",
    "    \"\"\"Processing data and dataframe\"\"\"\n",
    "    \"\"\"Each row of the dataframe will contain 'NB_WORDS_BY_ROW' words (50 by default)\"\"\"\n",
    "    \n",
    "    stack_line = \"\"\n",
    "    nonAscii = re.compile('\\\\W') # need to compile regular expression for better performance\n",
    "\n",
    "    for i, row in tqdm(dataframe.iterrows(), total=dataframe.shape[0]):\n",
    "        line = row[dataframe.columns[0]]          # get text data (type str) from dataframe\n",
    "        line = (stack_line + \" \" + line).strip()  # remove string begin/end spaces\n",
    "        line = line.lower()                       # lower capital letters\n",
    "        line = line.replace(\"-\", \" \")             # divide compound words (vice-president)\n",
    "        line = line.translate(punctuation_marks)  # remove punctuation marks\n",
    "        line = re.sub('\\d+', '', line)            # remove digits       \n",
    "        line = nonAscii.sub(' ', line)            # remove non-ascii characters\n",
    "        line = re.sub(' +', ' ', line)            # remove extra spaces\n",
    "\n",
    "        line_list = line.split()\n",
    "        line_num_words = len(line_list)\n",
    "        \n",
    "        if line_num_words < NB_WORDS_BY_ROW:\n",
    "            stack_line = line        # stack words of current line\n",
    "            dataframe.iloc[i] = \"\"   # clear dataframe row\n",
    "\n",
    "        elif line_num_words >= NB_WORDS_BY_ROW: # when NB_WORDS_BY_ROW criteria is reached\n",
    "            # write down in dataframe the sentence with the specified number of words\n",
    "            dataframe.iloc[i] = ' '.join(line_list[0:NB_WORDS_BY_ROW])\n",
    "            # and stack the lasts words\n",
    "            stack_line = ' '.join(line_list[NB_WORDS_BY_ROW:])\n",
    "\n",
    "    # remove empty rows and shuffle rows of dataframe\n",
    "    drop_indexes = dataframe[dataframe[dataframe.columns[0]] == \"\"].index\n",
    "    dataframe.drop(drop_indexes, inplace=True)\n",
    "    dataframe = dataframe.sample(frac=1)\n",
    "    dataframe.reset_index(drop=True, inplace=True)\n",
    "    \n",
    "    return dataframe"
   ]
  },
  {
   "cell_type": "markdown",
   "metadata": {},
   "source": [
    "### As a verification, let's apply pre-processing on English language data"
   ]
  },
  {
   "cell_type": "code",
   "execution_count": 17,
   "metadata": {},
   "outputs": [],
   "source": [
    "english_df = pd.read_csv(\n",
    "    corpus_path + \"/en-en/europarl-v7.fr-en.en\",\n",
    "    \"UTF-8\", names=[\"English Sentences\"],\n",
    "    engine='python')"
   ]
  },
  {
   "cell_type": "code",
   "execution_count": 18,
   "metadata": {},
   "outputs": [
    {
     "name": "stderr",
     "output_type": "stream",
     "text": [
      "100%|██████████| 2005688/2005688 [10:22<00:00, 3220.82it/s]\n"
     ]
    }
   ],
   "source": [
    "english_df_preproc = dataPreprocessing(english_df)\n",
    "dfi.export(english_df_preproc.head(10), \"img/language_detection_english_df_preproc.png\")"
   ]
  },
  {
   "cell_type": "markdown",
   "metadata": {},
   "source": [
    "![png](img/language_detection_english_df_preproc.png)"
   ]
  },
  {
   "cell_type": "markdown",
   "metadata": {},
   "source": [
    "### Now let's check the characters that make up the words and sentences of English data after pre-processing"
   ]
  },
  {
   "cell_type": "code",
   "execution_count": 19,
   "metadata": {},
   "outputs": [
    {
     "name": "stderr",
     "output_type": "stream",
     "text": [
      "100%|██████████| 999912/999912 [03:12<00:00, 5194.18it/s]\n"
     ]
    }
   ],
   "source": [
    "charDict = {}\n",
    "\n",
    "for i, row in tqdm(english_df_preproc.iterrows(), total=english_df_preproc.shape[0]):\n",
    "    line = row['English Sentences']\n",
    "    for char in line:\n",
    "        if char in charDict.keys():\n",
    "            charDict[char] += 1\n",
    "        else:\n",
    "            charDict[char] = 1"
   ]
  },
  {
   "cell_type": "code",
   "execution_count": 20,
   "metadata": {},
   "outputs": [
    {
     "name": "stdout",
     "output_type": "stream",
     "text": [
      "Number of different characters: 167\n"
     ]
    }
   ],
   "source": [
    "print(f'Number of different characters: {len(charDict)}')"
   ]
  },
  {
   "cell_type": "markdown",
   "metadata": {},
   "source": [
    "### Check these characters and their occurrence in detail"
   ]
  },
  {
   "cell_type": "code",
   "execution_count": null,
   "metadata": {},
   "outputs": [],
   "source": [
    "charDict = dict(sorted(charDict.items(),key= lambda x:x[1], reverse=True))\n",
    "print(charDict)"
   ]
  },
  {
   "cell_type": "markdown",
   "metadata": {},
   "source": [
    "![png](img/English_charDict.png)"
   ]
  },
  {
   "cell_type": "markdown",
   "metadata": {},
   "source": [
    "After pre-processing, we can observe the occurrence of some characters that belongs to other languages (ß έ й ε ã ...), and other special characters (¼ º ½ ¾) that has not been removed during pre-processing. It confirms what we saw during the data analysis: depending on the results and performance of the language detection model, we could have to clean the data a little more precisely."
   ]
  },
  {
   "cell_type": "markdown",
   "metadata": {},
   "source": [
    "### And visualize the ordered occurrence of these characters"
   ]
  },
  {
   "cell_type": "code",
   "execution_count": 22,
   "metadata": {},
   "outputs": [
    {
     "data": {
      "image/png": "[encoded data removed]",
      "text/plain": [
       "<Figure size 1440x576 with 1 Axes>"
      ]
     },
     "metadata": {
      "needs_background": "light"
     },
     "output_type": "display_data"
    }
   ],
   "source": [
    "plt.figure(figsize=(20, 8))\n",
    "plt.bar(range(len(charDict)), list(charDict.values()), align='center', edgecolor='black', color='darkorange')\n",
    "plt.xticks(range(len(charDict)), list(charDict.keys()))\n",
    "plt.tick_params(labelsize = 14)\n",
    "plt.xlabel('Characters', fontsize = 15)\n",
    "plt.ylabel('Number of occurrences', fontsize = 15)\n",
    "plt.title('English Data: Characters occurrences (first 50)', fontsize = 18)\n",
    "plt.xlim([-1, 50])\n",
    "plt.show()"
   ]
  },
  {
   "cell_type": "markdown",
   "metadata": {},
   "source": [
    "However, we observe here that the characters having a significant occurrence are those which compose classic English words and sentences! The appearance of characters that belongs to other languages and remaining special characters seems to be anecdotal."
   ]
  },
  {
   "cell_type": "markdown",
   "metadata": {},
   "source": [
    "**So let's keep it like this for the moment, and do some more precise data cleaning later if necessary.**"
   ]
  },
  {
   "cell_type": "markdown",
   "metadata": {},
   "source": [
    "### Corpus pre-processing"
   ]
  },
  {
   "cell_type": "markdown",
   "metadata": {},
   "source": [
    "**Now let's pre-process sentences for all languages of the entire corpus**"
   ]
  },
  {
   "cell_type": "markdown",
   "metadata": {},
   "source": [
    "Note: for english data, I choosed the file from <a href=\"http://www.statmt.org/europarl/v7/fr-en.tgz\">\"fr-en\"</a> folder which is the english translated text from the french text."
   ]
  },
  {
   "cell_type": "code",
   "execution_count": 23,
   "metadata": {},
   "outputs": [],
   "source": [
    "langDict = {\n",
    "    'bg': 'Bulgarian',\n",
    "    'cs': 'Czech',\n",
    "    'da': 'Danish',\n",
    "    'de': 'German',\n",
    "    'el': 'Greek',\n",
    "    'en': 'English',\n",
    "    'es': 'Spanish',\n",
    "    'et': 'Estonian',\n",
    "    'fi': 'Finnish',\n",
    "    'fr': 'French',\n",
    "    'hu': 'Hungarian',\n",
    "    'it': 'Italian',\n",
    "    'lt': 'Lithuanian',\n",
    "    'lv': 'Latvian',\n",
    "    'nl': 'Dutch',\n",
    "    'pl': 'Polish',\n",
    "    'pt': 'Portuguese',\n",
    "    'ro': 'Romanian',\n",
    "    'sk': 'Slovak',\n",
    "    'sl': 'Slovenian',\n",
    "    'sv': 'Swedish'\n",
    "}"
   ]
  },
  {
   "cell_type": "markdown",
   "metadata": {},
   "source": [
    "**For calculation purpose and to prevent memory issues that occurs with this large corpus, for each language, only 100000 sentences will be randomly selected.**"
   ]
  },
  {
   "cell_type": "code",
   "execution_count": 24,
   "metadata": {
    "scrolled": false
   },
   "outputs": [
    {
     "name": "stdout",
     "output_type": "stream",
     "text": [
      "Bulgarian\n"
     ]
    },
    {
     "name": "stderr",
     "output_type": "stream",
     "text": [
      "100%|██████████| 100000/100000 [00:32<00:00, 3045.56it/s]\n"
     ]
    },
    {
     "name": "stdout",
     "output_type": "stream",
     "text": [
      "Czech\n"
     ]
    },
    {
     "name": "stderr",
     "output_type": "stream",
     "text": [
      "100%|██████████| 100000/100000 [00:32<00:00, 3052.08it/s]\n"
     ]
    },
    {
     "name": "stdout",
     "output_type": "stream",
     "text": [
      "Danish\n"
     ]
    },
    {
     "name": "stderr",
     "output_type": "stream",
     "text": [
      "100%|██████████| 100000/100000 [00:32<00:00, 3084.68it/s]\n"
     ]
    },
    {
     "name": "stdout",
     "output_type": "stream",
     "text": [
      "German\n"
     ]
    },
    {
     "name": "stderr",
     "output_type": "stream",
     "text": [
      "100%|██████████| 100000/100000 [00:33<00:00, 2997.50it/s]\n"
     ]
    },
    {
     "name": "stdout",
     "output_type": "stream",
     "text": [
      "Greek\n"
     ]
    },
    {
     "name": "stderr",
     "output_type": "stream",
     "text": [
      "100%|██████████| 100000/100000 [00:34<00:00, 2910.47it/s]\n"
     ]
    },
    {
     "name": "stdout",
     "output_type": "stream",
     "text": [
      "English\n"
     ]
    },
    {
     "name": "stderr",
     "output_type": "stream",
     "text": [
      "100%|██████████| 100000/100000 [00:29<00:00, 3345.92it/s]\n"
     ]
    },
    {
     "name": "stdout",
     "output_type": "stream",
     "text": [
      "Spanish\n"
     ]
    },
    {
     "name": "stderr",
     "output_type": "stream",
     "text": [
      "100%|██████████| 100000/100000 [00:33<00:00, 2998.63it/s]\n"
     ]
    },
    {
     "name": "stdout",
     "output_type": "stream",
     "text": [
      "Estonian\n"
     ]
    },
    {
     "name": "stderr",
     "output_type": "stream",
     "text": [
      "100%|██████████| 100000/100000 [00:32<00:00, 3090.61it/s]\n"
     ]
    },
    {
     "name": "stdout",
     "output_type": "stream",
     "text": [
      "Finnish\n"
     ]
    },
    {
     "name": "stderr",
     "output_type": "stream",
     "text": [
      "100%|██████████| 100000/100000 [00:33<00:00, 3012.31it/s]\n"
     ]
    },
    {
     "name": "stdout",
     "output_type": "stream",
     "text": [
      "French\n"
     ]
    },
    {
     "name": "stderr",
     "output_type": "stream",
     "text": [
      "100%|██████████| 100000/100000 [00:33<00:00, 2970.94it/s]\n"
     ]
    },
    {
     "name": "stdout",
     "output_type": "stream",
     "text": [
      "Hungarian\n"
     ]
    },
    {
     "name": "stderr",
     "output_type": "stream",
     "text": [
      "100%|██████████| 100000/100000 [00:33<00:00, 2963.75it/s]\n"
     ]
    },
    {
     "name": "stdout",
     "output_type": "stream",
     "text": [
      "Italian\n"
     ]
    },
    {
     "name": "stderr",
     "output_type": "stream",
     "text": [
      "100%|██████████| 100000/100000 [00:33<00:00, 3007.12it/s]\n"
     ]
    },
    {
     "name": "stdout",
     "output_type": "stream",
     "text": [
      "Lithuanian\n"
     ]
    },
    {
     "name": "stderr",
     "output_type": "stream",
     "text": [
      "100%|██████████| 100000/100000 [00:32<00:00, 3056.49it/s]\n"
     ]
    },
    {
     "name": "stdout",
     "output_type": "stream",
     "text": [
      "Latvian\n"
     ]
    },
    {
     "name": "stderr",
     "output_type": "stream",
     "text": [
      "100%|██████████| 100000/100000 [00:32<00:00, 3062.43it/s]\n"
     ]
    },
    {
     "name": "stdout",
     "output_type": "stream",
     "text": [
      "Dutch\n"
     ]
    },
    {
     "name": "stderr",
     "output_type": "stream",
     "text": [
      "100%|██████████| 100000/100000 [00:31<00:00, 3220.98it/s]\n"
     ]
    },
    {
     "name": "stdout",
     "output_type": "stream",
     "text": [
      "Polish\n"
     ]
    },
    {
     "name": "stderr",
     "output_type": "stream",
     "text": [
      "100%|██████████| 100000/100000 [00:33<00:00, 2983.80it/s]\n"
     ]
    },
    {
     "name": "stdout",
     "output_type": "stream",
     "text": [
      "Portuguese\n"
     ]
    },
    {
     "name": "stderr",
     "output_type": "stream",
     "text": [
      "100%|██████████| 100000/100000 [00:33<00:00, 3013.53it/s]\n"
     ]
    },
    {
     "name": "stdout",
     "output_type": "stream",
     "text": [
      "Romanian\n"
     ]
    },
    {
     "name": "stderr",
     "output_type": "stream",
     "text": [
      "100%|██████████| 100000/100000 [00:33<00:00, 2992.63it/s]\n"
     ]
    },
    {
     "name": "stdout",
     "output_type": "stream",
     "text": [
      "Slovak\n"
     ]
    },
    {
     "name": "stderr",
     "output_type": "stream",
     "text": [
      "100%|██████████| 100000/100000 [00:32<00:00, 3050.19it/s]\n"
     ]
    },
    {
     "name": "stdout",
     "output_type": "stream",
     "text": [
      "Slovenian\n"
     ]
    },
    {
     "name": "stderr",
     "output_type": "stream",
     "text": [
      "100%|██████████| 100000/100000 [00:32<00:00, 3109.38it/s]\n"
     ]
    },
    {
     "name": "stdout",
     "output_type": "stream",
     "text": [
      "Swedish\n"
     ]
    },
    {
     "name": "stderr",
     "output_type": "stream",
     "text": [
      "100%|██████████| 100000/100000 [00:32<00:00, 3056.71it/s]\n"
     ]
    }
   ],
   "source": [
    "languages = []\n",
    "d = {}\n",
    "    \n",
    "for _, (key, language) in enumerate(langDict.items()):\n",
    "    print(language)\n",
    "    languages.append(language)\n",
    "    folder = key + '-en'  # a folder name is like \"bg-en\"\n",
    "    files_path = os.path.join(corpus_path, folder)\n",
    "\n",
    "    for file in os.listdir(files_path):\n",
    "        d[language] = pd.read_csv(files_path + \"/\" + file, \"UTF-8\", names=[\"Sentences\"], engine='python')\n",
    "        d[language] = d[language].sample(frac=1)          # randomize sentences\n",
    "        d[language].reset_index(drop=True, inplace=True)\n",
    "        d[language] = d[language].iloc[0:100000].copy()   # select 100000 sentences\n",
    "        d[language] = dataPreprocessing(d[language])      # pre-processing sentences\n",
    "        d[language]['Language'] = language                # add column that indicates the language"
   ]
  },
  {
   "cell_type": "markdown",
   "metadata": {},
   "source": [
    "## 4.Preparing Datasets<a id=\"preparing_datasets\"></a>"
   ]
  },
  {
   "cell_type": "markdown",
   "metadata": {},
   "source": [
    "### Now we are ready to create our Train and Test sets by concatenating dataframes of each language:<br/>\n",
    "- 80% of the data dedicated to Train set\n",
    "- 20% of the data dedicated to Test set"
   ]
  },
  {
   "cell_type": "code",
   "execution_count": 25,
   "metadata": {},
   "outputs": [],
   "source": [
    "train_df = pd.DataFrame()\n",
    "test_df  = pd.DataFrame()"
   ]
  },
  {
   "cell_type": "code",
   "execution_count": 26,
   "metadata": {},
   "outputs": [],
   "source": [
    "for language in languages:\n",
    "    ratio = int(d[language].shape[0] * 0.8)\n",
    "    train_df = pd.concat([train_df, d[language][0:ratio]], axis=0)\n",
    "    test_df  = pd.concat([test_df,  d[language][ratio:]],  axis=0)\n",
    "\n",
    "# Saving Train and Test datasets as csv files\n",
    "train_df.reset_index(drop=True, inplace=True)\n",
    "test_df.reset_index(drop=True, inplace=True)\n",
    "train_df.to_csv(data_path + '/Europarl_csv/train_df.csv', index = False)\n",
    "test_df.to_csv(data_path + '/Europarl_csv/test_df.csv', index = False)"
   ]
  },
  {
   "cell_type": "code",
   "execution_count": 27,
   "metadata": {},
   "outputs": [
    {
     "name": "stdout",
     "output_type": "stream",
     "text": [
      "(741158, 2)\n",
      "(185303, 2)\n"
     ]
    }
   ],
   "source": [
    "print(train_df.shape)\n",
    "print(test_df.shape)"
   ]
  },
  {
   "cell_type": "code",
   "execution_count": 28,
   "metadata": {},
   "outputs": [],
   "source": [
    "dfi.export(train_df.tail(), \"img/language_detection_train_df.png\")"
   ]
  },
  {
   "cell_type": "markdown",
   "metadata": {},
   "source": [
    "![png](img/language_detection_train_df.png)"
   ]
  },
  {
   "cell_type": "code",
   "execution_count": 29,
   "metadata": {},
   "outputs": [],
   "source": [
    "dfi.export(test_df.tail(), \"img/language_detection_test_df.png\")"
   ]
  },
  {
   "cell_type": "markdown",
   "metadata": {},
   "source": [
    "![png](img/language_detection_test_df.png)"
   ]
  },
  {
   "cell_type": "markdown",
   "metadata": {},
   "source": [
    "### Visualizing the  number of sentences for each language"
   ]
  },
  {
   "cell_type": "code",
   "execution_count": 50,
   "metadata": {
    "scrolled": false
   },
   "outputs": [
    {
     "data": {
      "image/png": "[encoded data removed]",
      "text/plain": [
       "<Figure size 1440x864 with 2 Axes>"
      ]
     },
     "metadata": {
      "needs_background": "light"
     },
     "output_type": "display_data"
    }
   ],
   "source": [
    "plt.figure(figsize=(20, 12))\n",
    "\n",
    "# TRAIN DATASET\n",
    "plt.subplot(211)\n",
    "sns.countplot(data=train_df, x=train_df['Language'])\n",
    "plt.xlabel('Languages', fontsize = 12)\n",
    "plt.ylabel('Number of sentences', fontsize = 12)\n",
    "plt.title('Train Dataset: Number of sentenses by language', fontsize = 15)\n",
    "\n",
    "# TEST DATASET\n",
    "plt.subplot(212)\n",
    "sns.countplot(data=test_df, x=test_df['Language'])\n",
    "plt.xlabel('Languages', fontsize = 12)\n",
    "plt.ylabel('Number of sentences', fontsize = 12)\n",
    "plt.title('Test Dataset: Number of sentenses by language', fontsize = 15)\n",
    "\n",
    "plt.show()"
   ]
  },
  {
   "cell_type": "markdown",
   "metadata": {},
   "source": [
    "Since the sentences of all languages are initially variable length, the result of the preprocessing gives us a different number of normalized length sentences for each language."
   ]
  },
  {
   "cell_type": "markdown",
   "metadata": {},
   "source": [
    "## 5.Variables definition<a id=\"variables\"></a>"
   ]
  },
  {
   "cell_type": "markdown",
   "metadata": {},
   "source": [
    "### Creating variables for model input"
   ]
  },
  {
   "cell_type": "code",
   "execution_count": 31,
   "metadata": {},
   "outputs": [],
   "source": [
    "train_df = pd.read_csv(data_path + '/Europarl_csv/train_df.csv', index_col = False)\n",
    "\n",
    "X_train = train_df.iloc[:,0] # Independent Variable\n",
    "y_train = train_df.iloc[:,1] # Dependent Variable"
   ]
  },
  {
   "cell_type": "code",
   "execution_count": 32,
   "metadata": {},
   "outputs": [],
   "source": [
    "test_df  = pd.read_csv(data_path + '/Europarl_csv/test_df.csv', index_col = False)\n",
    "\n",
    "X_test = test_df.iloc[:,0] # Independent Variable\n",
    "y_test = test_df.iloc[:,1] # Dependent Variable"
   ]
  },
  {
   "cell_type": "markdown",
   "metadata": {},
   "source": [
    "## 6.Data vectorization<a id=\"data_vectorization\"></a>"
   ]
  },
  {
   "cell_type": "markdown",
   "metadata": {},
   "source": [
    "### Applying TF-IDF Vectorizer with Character Tokenization"
   ]
  },
  {
   "cell_type": "markdown",
   "metadata": {},
   "source": [
    "I chose Character Tokenization because characters are the most relevant entities to recognize a language.<br/>\n",
    "\n",
    "One can found on Wikipedia a <a href=\"https://en.wikipedia.org/wiki/Wikipedia:Language_recognition_chart\">Language recognition chart</a>: \"This language recognition chart presents a variety of clues one can use to help determine the language in which a text is written.\"<br/>\n",
    "\n",
    "Here under an extract of the article:"
   ]
  },
  {
   "cell_type": "markdown",
   "metadata": {},
   "source": [
    "![png](img/language_detection_chart1.png)"
   ]
  },
  {
   "cell_type": "markdown",
   "metadata": {},
   "source": [
    "[...]"
   ]
  },
  {
   "cell_type": "markdown",
   "metadata": {},
   "source": [
    "![png](img/language_detection_chart2.png)"
   ]
  },
  {
   "cell_type": "markdown",
   "metadata": {},
   "source": [
    "Furhtermore, Character Tokenization splits a sentence into a set of characters, so it can overcomes **\"Out Of Vocabulary\"** words coherently by preserving the information of the word, and limits the size of the vocabulary."
   ]
  },
  {
   "cell_type": "markdown",
   "metadata": {},
   "source": [
    "I use the **TfidfVectorizer** from Scikit-Learn library to convert raw sentences into matrix of TF-IDF features.\n",
    "Selecting the **'char_wb' option** to create n-grams of characters only from text inside word boundaries; n-grams at the edges of words are padded with space (whitespace can begin or end trigrams but cannot be in the middle)."
   ]
  },
  {
   "cell_type": "code",
   "execution_count": 33,
   "metadata": {},
   "outputs": [],
   "source": [
    "vectorizer = feature_extraction.text.TfidfVectorizer(ngram_range=(1,3), analyzer='char_wb')"
   ]
  },
  {
   "cell_type": "markdown",
   "metadata": {},
   "source": [
    "### Let's test this vectorizer on the Italian data:"
   ]
  },
  {
   "cell_type": "code",
   "execution_count": 34,
   "metadata": {},
   "outputs": [
    {
     "name": "stdout",
     "output_type": "stream",
     "text": [
      "(50207,)\n"
     ]
    }
   ],
   "source": [
    "Italian_Sentences = d[\"Italian\"].iloc[:,0]\n",
    "print(Italian_Sentences.shape)"
   ]
  },
  {
   "cell_type": "code",
   "execution_count": 35,
   "metadata": {},
   "outputs": [
    {
     "name": "stdout",
     "output_type": "stream",
     "text": [
      "è tuttora caratterizzata da una mancanza di parità tra i generi vorrei ringraziarvi per linteresse dimostrato verso lordine del giorno del prossimo consiglio europeo e sarò lieto di raccogliere i vostri stimolanti commenti e pareri in occasione della prossima discussione ho votato a favore della relazione gröner sulla lotta contro\n"
     ]
    }
   ],
   "source": [
    "print(Italian_Sentences[0])"
   ]
  },
  {
   "cell_type": "code",
   "execution_count": 36,
   "metadata": {
    "scrolled": true
   },
   "outputs": [],
   "source": [
    "Italian_vect = vectorizer.fit_transform(Italian_Sentences)\n",
    "Italian_vect = pd.DataFrame(Italian_vect.toarray(), columns= vectorizer.get_feature_names())"
   ]
  },
  {
   "cell_type": "code",
   "execution_count": 37,
   "metadata": {
    "scrolled": true
   },
   "outputs": [
    {
     "data": {
      "text/plain": [
       "(50207, 9398)"
      ]
     },
     "execution_count": 37,
     "metadata": {},
     "output_type": "execute_result"
    }
   ],
   "source": [
    "Italian_vect.shape"
   ]
  },
  {
   "cell_type": "markdown",
   "metadata": {},
   "source": [
    "As we see the number of features (for Italian data) is equal to 9398."
   ]
  },
  {
   "cell_type": "code",
   "execution_count": 38,
   "metadata": {},
   "outputs": [],
   "source": [
    "dfi.export(Italian_vect.head(10), \"img/language_detection_italian_vect.png\", max_cols=20)"
   ]
  },
  {
   "cell_type": "markdown",
   "metadata": {},
   "source": [
    "![png](img/language_detection_italian_vect.png)"
   ]
  },
  {
   "cell_type": "markdown",
   "metadata": {},
   "source": [
    "And as expected, we can find some features that are composed with characters from other languages."
   ]
  },
  {
   "cell_type": "markdown",
   "metadata": {},
   "source": [
    "## 7.Model<a id=\"model\"></a>"
   ]
  },
  {
   "cell_type": "markdown",
   "metadata": {},
   "source": [
    "### Model definition"
   ]
  },
  {
   "cell_type": "markdown",
   "metadata": {},
   "source": [
    "For classification, I selected in a first approach the logistic regression model from Scikit-Learn library.<br/>\n",
    "The Vectorizer and the Classifier are then combined in a pipeline:"
   ]
  },
  {
   "cell_type": "code",
   "execution_count": 39,
   "metadata": {},
   "outputs": [],
   "source": [
    "Language_detector = pipeline.Pipeline([\n",
    "    ('vectorizer', vectorizer),\n",
    "    ('classifier', LogisticRegression(max_iter=1000))\n",
    "])"
   ]
  },
  {
   "cell_type": "markdown",
   "metadata": {},
   "source": [
    "### Model training"
   ]
  },
  {
   "cell_type": "code",
   "execution_count": 40,
   "metadata": {},
   "outputs": [
    {
     "name": "stdout",
     "output_type": "stream",
     "text": [
      "\n",
      "Processing time = 43.20 min\n"
     ]
    }
   ],
   "source": [
    "start_time = time.time()\n",
    "Language_detector.fit(X_train, y_train)\n",
    "end_time = time.time()\n",
    "print(\"\\nProcessing time = {:0.2f} min\".format((end_time - start_time)/60))"
   ]
  },
  {
   "cell_type": "markdown",
   "metadata": {},
   "source": [
    "## 8.Model evaluation<a id=\"evaluation\"></a>"
   ]
  },
  {
   "cell_type": "markdown",
   "metadata": {},
   "source": [
    "### Accuracy"
   ]
  },
  {
   "cell_type": "code",
   "execution_count": 41,
   "metadata": {},
   "outputs": [],
   "source": [
    "y_test_pred = Language_detector.predict(X_test)"
   ]
  },
  {
   "cell_type": "code",
   "execution_count": 42,
   "metadata": {},
   "outputs": [
    {
     "name": "stdout",
     "output_type": "stream",
     "text": [
      "Test Accuracy = 100.00%\n"
     ]
    }
   ],
   "source": [
    "accuracy = accuracy_score(y_test, y_test_pred) * 100\n",
    "print(f\"Test Accuracy = {accuracy:.2f}%\")"
   ]
  },
  {
   "cell_type": "markdown",
   "metadata": {},
   "source": [
    "Awesome! Even with special characters and characters from other languages, a 100% accuracy is achieved on test data."
   ]
  },
  {
   "cell_type": "markdown",
   "metadata": {},
   "source": [
    "### Classification report"
   ]
  },
  {
   "cell_type": "code",
   "execution_count": 43,
   "metadata": {},
   "outputs": [
    {
     "name": "stdout",
     "output_type": "stream",
     "text": [
      "              precision    recall  f1-score   support\n",
      "\n",
      "   Bulgarian       1.00      1.00      1.00      9180\n",
      "       Czech       1.00      1.00      1.00      7948\n",
      "      Danish       1.00      1.00      1.00      9034\n",
      "       Dutch       1.00      1.00      1.00     10101\n",
      "     English       1.00      1.00      1.00      9990\n",
      "    Estonian       1.00      1.00      1.00      6804\n",
      "     Finnish       1.00      1.00      1.00      6649\n",
      "      French       1.00      1.00      1.00     10541\n",
      "      German       1.00      1.00      1.00      9259\n",
      "       Greek       1.00      1.00      1.00     10290\n",
      "   Hungarian       1.00      1.00      1.00      7905\n",
      "     Italian       1.00      1.00      1.00     10042\n",
      "     Latvian       1.00      1.00      1.00      7404\n",
      "  Lithuanian       1.00      1.00      1.00      7073\n",
      "      Polish       1.00      1.00      1.00      8005\n",
      "  Portuguese       1.00      1.00      1.00     10184\n",
      "    Romanian       1.00      1.00      1.00      9623\n",
      "      Slovak       1.00      1.00      1.00      7987\n",
      "   Slovenian       1.00      1.00      1.00      7933\n",
      "     Spanish       1.00      1.00      1.00     10472\n",
      "     Swedish       1.00      1.00      1.00      8879\n",
      "\n",
      "    accuracy                           1.00    185303\n",
      "   macro avg       1.00      1.00      1.00    185303\n",
      "weighted avg       1.00      1.00      1.00    185303\n",
      "\n"
     ]
    }
   ],
   "source": [
    "report = classification_report(y_test, y_test_pred)\n",
    "print(report)"
   ]
  },
  {
   "cell_type": "markdown",
   "metadata": {},
   "source": [
    "Precision, recall and f1-score all reach the maximum value !"
   ]
  },
  {
   "cell_type": "markdown",
   "metadata": {},
   "source": [
    "### Confusion matrix"
   ]
  },
  {
   "cell_type": "code",
   "execution_count": 44,
   "metadata": {},
   "outputs": [
    {
     "data": {
      "image/png": "[encoded data removed]",
      "text/plain": [
       "<Figure size 1152x720 with 2 Axes>"
      ]
     },
     "metadata": {
      "needs_background": "light"
     },
     "output_type": "display_data"
    }
   ],
   "source": [
    "cm = confusion_matrix(y_test, y_test_pred)\n",
    "\n",
    "fig = plt.figure(figsize=(16, 10))\n",
    "sns.heatmap(cm, annot=True, cmap=\"Blues\", fmt='.0f', xticklabels=languages, yticklabels=languages)\n",
    "plt.ylabel('True labels', size=15)\n",
    "plt.xlabel('Predicted labels', size=15)\n",
    "plt.xticks(rotation=45)\n",
    "plt.title('Confusion Matrix', size=18, y=1.02)\n",
    "plt.show()"
   ]
  },
  {
   "cell_type": "markdown",
   "metadata": {},
   "source": [
    "The model has near perfect language classification and detection capability on test data!<br/>\n",
    "And it is reasonable to think that the misclassifications observed here are the result of the remaining sentences from other languages."
   ]
  },
  {
   "cell_type": "markdown",
   "metadata": {},
   "source": [
    "### Saving model"
   ]
  },
  {
   "cell_type": "code",
   "execution_count": 45,
   "metadata": {},
   "outputs": [],
   "source": [
    "pickle.dump(Language_detector, open(data_path + \"Language_detector.model\", \"wb\"))"
   ]
  },
  {
   "cell_type": "markdown",
   "metadata": {},
   "source": [
    "Gives us the possibility to re-use this pre-trained model for deployment (in web application for exemple)."
   ]
  },
  {
   "cell_type": "markdown",
   "metadata": {},
   "source": [
    "## 9.Inference<a id=\"inference\"></a>"
   ]
  },
  {
   "cell_type": "markdown",
   "metadata": {},
   "source": [
    "### Importing the model"
   ]
  },
  {
   "cell_type": "code",
   "execution_count": 27,
   "metadata": {},
   "outputs": [],
   "source": [
    "Language_detector = pickle.load(open(data_path + \"Language_detector.model\", \"rb\"))"
   ]
  },
  {
   "cell_type": "markdown",
   "metadata": {},
   "source": [
    "### Inference on new sentences"
   ]
  },
  {
   "cell_type": "markdown",
   "metadata": {},
   "source": [
    "Let's pick up few sentences in different languages from Wikipedia and test our model's language detection capability:"
   ]
  },
  {
   "cell_type": "code",
   "execution_count": 28,
   "metadata": {},
   "outputs": [],
   "source": [
    "inference_sentences = {\n",
    "    'Bulgarian':  \"Статистиката е дисциплина, която се занимава със събирането, организирането, анализа, интерпретацията и представянето на данни.\",\n",
    "    'Czech':      \"Statistika je vědní obor, který se zabývá sběrem, organizací, analýzou, interpretací a prezentací empirických dat za účelem prohloubení znalostí určité oblasti, obvykle hromadného jevu.\",\n",
    "    'Danish':     \"Statistik er en videnskabelig metode, hvormed man effektivt anvender numeriske data, som fx kan komme fra eksperimenter, spørgeskemaer eller registre.\",\n",
    "    'German':     \"Statistik „ist die Lehre von Methoden zum Umgang mit quantitativen Informationen“ (Daten).[1] Sie ist eine Möglichkeit, „eine systematische Verbindung zwischen Erfahrung (Empirie) und Theorie herzustellen“.\",\n",
    "    'Greek':      \"Η Στατιστική είναι μία μεθοδική μαθηματική, παλαιότερα τεχνική και σήμερα επιστήμη που επιχειρεί να εξαγάγει έγκυρη γνώση χρησιμοποιώντας εμπειρικά δεδομένα παρατήρησης ή και πειράματος.\",\n",
    "    'English':    \"Statistics is the discipline that concerns the collection, organization, analysis, interpretation, and presentation of data.\",\n",
    "    'Spanish':    \"La estadística (la forma femenina del término alemán Statistik, derivado a su vez del italiano statista, hombre de Estado),1​ es la rama de las matemáticas que estudia la variabilidad, colección, organización, análisis, interpretación, y presentación de los datos, así como el proceso aleatorio que los genera siguiendo las leyes de la probabilidad.\",\n",
    "    'Estonian':   \"Statistika ehk arvustikuteadus on teadus, mis käsitleb andmete kogumist, töötlemist ja analüüsi. Statistika on teadus massnähtuste kvantitatiivse uurimise meetoditest.\",\n",
    "    'Finnish':    \"Tilastotiede on todennäköisyyslaskentaan perustuva tieteenala, joka tutkii tilastollisten aineistojen keräämistä, käsittelyä ja tältä pohjalta tehtävää päättelyä.\",\n",
    "    'French':     \"La statistique est la discipline qui étudie des phénomènes à travers la collecte de données, leur traitement, leur analyse, l'interprétation des résultats et leur présentation afin de rendre ces données compréhensibles par tous.\",\n",
    "    'Hungarian':  \"A statisztika avagy számhasonlítás[1] a valóság számszerű információinak megfigyelésére, összegzésére, elemzésére és modellezésére irányuló gyakorlati tevékenység és tudomány. \",\n",
    "    'Italian':    \"La statistica è una disciplina che ha come fine lo studio quantitativo e qualitativo di un particolare fenomeno collettivo in condizioni di incertezza o non determinismo, cioè di non completa conoscenza di esso o di una sua parte.\",\n",
    "    'Lithuanian': \"Statistika – tikslusis mokslas, kuriame efektyviai panaudojami duomenys iš gautų bandymų ir eksperimentų. Į tai įeina ne tik duomenų rinkimas, jų analizė ir interpretavimas, tačiau ir duomenų prognozavimas iš apklausų ir eksperimentų rezultatų.\",\n",
    "    'Latvian':    \"Statistika ir zinātne, kas nodarbojas ar datu iegūšanu, apstrādi, analīzi un to izskaidrošanu.[1] Statistika tiek plaši izmantota dažādās jomās, piemēram, valsts iestādēm statistiskie dati, kurus tās iegūst no tautas skaitīšanas, ir nepieciešami, lai noskaidrotu sabiedrības dzīves un tautsaimniecības kvantitatīvās likumsakarības.\",\n",
    "    'Dutch':      \"Statistiek is de wetenschap en de techniek van het verzamelen, bewerken, interpreteren en presenteren van gegevens.\",\n",
    "    'Polish':     \"Statystyka (niem. Statistik, „badanie faktów i osób publicznych”, z łac. [now.] statisticus, „polityczny, dot. polityki”, od status, „państwo, stan”) – nauka, której przedmiotem zainteresowania są metody pozyskiwania i prezentacji, a przede wszystkim analizy danych opisujących zjawiska, w tym masowe. \",\n",
    "    'Portuguese': \"Estatística é a ciência que utiliza as teorias probabilísticas para explicar a frequência da ocorrência de eventos,[1] tanto em estudos observacionais quanto em experimentos para modelar a aleatoriedade e a incerteza de forma a estimar ou possibilitar a previsão de fenômenos futuros, conforme o caso. \",\n",
    "    'Romanian':   \"Statistica este o știință care, folosind calculul probabilităților, studiază fenomenele și procesele de tip colectiv (din societate, natură etc.) din punct de vedere cantitativ[1][2] în scopul descrierii acestora și al descoperirii legilor care guvernează manifestarea lor.\",\n",
    "    'Slovak':     \"Štatistika je veda založená na využívaní empirických (t. j. založených na skúsenostiach) dát.\",\n",
    "    'Slovenian':  \"Statístika je znanost in veščina o razvoju znanja z uporabo izkustvenih podatkov. Njena osnova je matematična statistika, ki je veja uporabne matematike.\",\n",
    "    'Swedish':    \"Statistik är en gren inom tillämpad matematik som sysslar med insamling, utvärdering, analys och presentation av data eller information.\",\n",
    "}"
   ]
  },
  {
   "cell_type": "code",
   "execution_count": 38,
   "metadata": {},
   "outputs": [],
   "source": [
    "# Setting column width display option\n",
    "pd.set_option('display.max_colwidth', 100)"
   ]
  },
  {
   "cell_type": "code",
   "execution_count": 39,
   "metadata": {},
   "outputs": [],
   "source": [
    "data = []\n",
    "for _, (language, sentence) in enumerate(inference_sentences.items()):\n",
    "    sentence_array = np.array(sentence).reshape(-1)\n",
    "    predicted_language = Language_detector.predict(sentence_array)\n",
    "    data.append([sentence, language, predicted_language[0]])\n",
    "\n",
    "inference_df = pd.DataFrame(data, columns=[\"Sentence\", \"Language\", \"Predicted language\"])\n",
    "dfi.export(inference_df, \"img/language_detection_inference_df.png\")"
   ]
  },
  {
   "cell_type": "markdown",
   "metadata": {},
   "source": [
    "![png](img/language_detection_inference_df.png)"
   ]
  },
  {
   "cell_type": "markdown",
   "metadata": {},
   "source": [
    "Thus I can build a language detection parser which takes a sentence as input and returns the detected language accordingly."
   ]
  },
  {
   "cell_type": "markdown",
   "metadata": {},
   "source": [
    "### Language detection parser"
   ]
  },
  {
   "cell_type": "code",
   "execution_count": 57,
   "metadata": {},
   "outputs": [
    {
     "name": "stdout",
     "output_type": "stream",
     "text": [
      "Sentence: \n",
      "Automatisch leren, machinaal leren of machine learning is een breed onderzoeksveld binnen kunstmatige intelligentie, dat zich bezighoudt met de ontwikkeling van algoritmes en technieken waarmee computers kunnen leren. \n",
      "\n",
      "\n",
      "Language detected: Dutch\n"
     ]
    }
   ],
   "source": [
    "sentence = input('Sentence: \\n')\n",
    "sentence_array = np.array(sentence).reshape(-1)\n",
    "predicted_language = Language_detector.predict(sentence_array)\n",
    "print(\"\\n\")\n",
    "print(f'Language detected: {predicted_language[0]}')"
   ]
  },
  {
   "cell_type": "markdown",
   "metadata": {},
   "source": [
    "## 10.Conclusion<a id=\"conclusion\"></a>"
   ]
  },
  {
   "cell_type": "markdown",
   "metadata": {},
   "source": [
    "The Europarl parallel corpus - extracted from the proceedings of the European Parliament - includes versions in 21 European languages.<br/>\n",
    "I used this corpus originally intended for translation to build a language detection model."
   ]
  },
  {
   "cell_type": "markdown",
   "metadata": {},
   "source": [
    "The analysis of the data revealed some imprecisions: each language data contains some sentences from other languages, and these imprecisions exists for all language data:<br/>\n",
    "- Analysing characters, the occurrence of letters of other alphabets allow us to understand that these appearances are anecdotal.\n",
    "- On the other hand it is more difficult to estimate the number of sentences of other languages whose alphabets are common with the considered language.\n",
    "\n",
    "Despite of this, I made the initial hypothesis that these sentences are rare enough to be unsignificant, and do some more precise data cleaning in a second step if necessary."
   ]
  },
  {
   "cell_type": "markdown",
   "metadata": {},
   "source": [
    "Then I applied the following basic pre-processing techniques:\n",
    "- remove string begin/end spaces\n",
    "- lower capital letters\n",
    "- divide compound words\n",
    "- remove punctuation marks\n",
    "- remove digits\n",
    "- remove non-ascii characters\n",
    "- remove extra spaces\n",
    "- set the length of sentences to 50 words"
   ]
  },
  {
   "cell_type": "markdown",
   "metadata": {},
   "source": [
    "I arbitrary choosed to set the length of sentences to 50 words, in order to train a machine learning model on a dataset with standardized word length sentences. Sentences has been concatenated or sliced to fit this given word length.<br/>\n",
    "This pre-processing is possible as for language detection I do not analyse the semantic content of sentences but only words or characters.<br/>\n",
    "By the way, this pre-processing can split or concatenate some valid sentences with sentences from other languages and could reduce the imprecision over text data."
   ]
  },
  {
   "cell_type": "markdown",
   "metadata": {},
   "source": [
    "For calculation purpose and to prevent memory issues that occurs with this large corpus, I randomly selected only 100000 sentences for each language."
   ]
  },
  {
   "cell_type": "markdown",
   "metadata": {},
   "source": [
    "For the Natural Language Processing, I chose Character Tokenization because characters and n-grams of characters are the most relevant entities to recognize a language, it can overcomes \"Out Of Vocabulary\" words coherently by preserving the information of the word, as well as limiting the size of the vocabulary."
   ]
  },
  {
   "cell_type": "markdown",
   "metadata": {},
   "source": [
    "I built a Machine Learning model with a pipeline combining a Vectorizer and a Classifier:\n",
    "- Vectorizer: the TfidfVectorizer from Scikit-Learn library which convert raw sentences into matrix of TF-IDF features, selecting the 'char_wb' option to create unigram, bigram and trigram features of characters only from text inside word boundaries.\n",
    "- Classifier: the logistic regression model from Scikit-Learn library."
   ]
  },
  {
   "cell_type": "markdown",
   "metadata": {},
   "source": [
    "The model's training converged in 43 min with enough but borderline memory load!"
   ]
  },
  {
   "cell_type": "markdown",
   "metadata": {},
   "source": [
    "The model evaluation shows:\n",
    "- 100% accuracy on test data, ven with special characters and characters from other languages.\n",
    "- Precision, recall and f1-score all reach the maximum value.\n",
    "- The model shows a near perfect language classification and detection capability on test data."
   ]
  },
  {
   "cell_type": "markdown",
   "metadata": {},
   "source": [
    "**Now we have a language detection model that can predict accurately the language (in the list the Europarl corpus languages) of any new sentence, and that can be deployed on a web application for exemple.**"
   ]
  }
 ],
 "metadata": {
  "front-matter": {
   "date": "2020-12-10",
   "slug": "A_Simple_Language_Detector",
   "tags": [
    "NLP",
    "Language Classification"
   ],
   "title": "A simple Language Detector"
  },
  "hugo-jupyter": {
   "render-to": "content/post"
  },
  "kernelspec": {
   "display_name": "Python [conda env:tf230] *",
   "language": "python",
   "name": "conda-env-tf230-py"
  },
  "language_info": {
   "codemirror_mode": {
    "name": "ipython",
    "version": 3
   },
   "file_extension": ".py",
   "mimetype": "text/x-python",
   "name": "python",
   "nbconvert_exporter": "python",
   "pygments_lexer": "ipython3",
   "version": "3.8.5"
  }
 },
 "nbformat": 4,
 "nbformat_minor": 4
}
